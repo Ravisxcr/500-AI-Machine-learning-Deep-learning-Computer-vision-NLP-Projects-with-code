{
  "nbformat": 4,
  "nbformat_minor": 0,
  "metadata": {
    "colab": {
      "provenance": [],
      "private_outputs": true,
      "mount_file_id": "1tN-zpFmlbW4L7CpnPzGfNl4fOcrVztkO",
      "authorship_tag": "ABX9TyMDYDgmcpi/nyGDc6JVF38q",
      "include_colab_link": true
    },
    "kernelspec": {
      "name": "python3",
      "display_name": "Python 3"
    },
    "language_info": {
      "name": "python"
    },
    "gpuClass": "standard",
    "accelerator": "GPU"
  },
  "cells": [
    {
      "cell_type": "markdown",
      "metadata": {
        "id": "view-in-github",
        "colab_type": "text"
      },
      "source": [
        "<a href=\"https://colab.research.google.com/github/Ravisxcr/500-AI-Machine-learning-Deep-learning-Computer-vision-NLP-Projects-with-code/blob/main/tomatao.ipynb\" target=\"_parent\"><img src=\"https://colab.research.google.com/assets/colab-badge.svg\" alt=\"Open In Colab\"/></a>"
      ]
    },
    {
      "cell_type": "code",
      "source": [
        "from google.colab import files\n",
        "files.upload()"
      ],
      "metadata": {
        "id": "JqFvjgRttld1"
      },
      "execution_count": null,
      "outputs": []
    },
    {
      "cell_type": "code",
      "source": [
        "! mkdir ~/.kaggle"
      ],
      "metadata": {
        "id": "gKrw9Xqgt_UU"
      },
      "execution_count": null,
      "outputs": []
    },
    {
      "cell_type": "code",
      "source": [
        "! ls"
      ],
      "metadata": {
        "id": "rrsd1JVhv3pF"
      },
      "execution_count": null,
      "outputs": []
    },
    {
      "cell_type": "code",
      "source": [
        "!cd PlantVillage/"
      ],
      "metadata": {
        "id": "d2jH2T1NwdaV"
      },
      "execution_count": null,
      "outputs": []
    },
    {
      "cell_type": "code",
      "source": [
        "! cp kaggle.json ~/.kaggle/"
      ],
      "metadata": {
        "id": "0ucdr0XnuD0e"
      },
      "execution_count": null,
      "outputs": []
    },
    {
      "cell_type": "code",
      "source": [
        "! chmod 600 ~/.kaggle/kaggle.json"
      ],
      "metadata": {
        "id": "EI_0GKwquJJc"
      },
      "execution_count": null,
      "outputs": []
    },
    {
      "cell_type": "code",
      "source": [
        "!kaggle datasets download -d arjuntejaswi/plant-village"
      ],
      "metadata": {
        "id": "pkRPEBvpdrZn"
      },
      "execution_count": null,
      "outputs": []
    },
    {
      "cell_type": "code",
      "source": [
        "!unzip /content/plant-village.zip"
      ],
      "metadata": {
        "id": "ESpiyZo5uf2W"
      },
      "execution_count": null,
      "outputs": []
    },
    {
      "cell_type": "code",
      "source": [
        "!mkdir /content/PlantVillage/Tomato"
      ],
      "metadata": {
        "id": "Ogt58fn6ZlVs"
      },
      "execution_count": null,
      "outputs": []
    },
    {
      "cell_type": "code",
      "source": [
        "! mv /content/PlantVillage/Tomato_Bacterial_spot /content/PlantVillage/Tomato"
      ],
      "metadata": {
        "id": "CtwiMH7dZuC_"
      },
      "execution_count": null,
      "outputs": []
    },
    {
      "cell_type": "code",
      "source": [
        "!mv /content/PlantVillage/Tomato_Early_blight /content/PlantVillage/Tomato"
      ],
      "metadata": {
        "id": "3b5S_ad-aimv"
      },
      "execution_count": null,
      "outputs": []
    },
    {
      "cell_type": "code",
      "source": [
        "! mv /content/PlantVillage/Tomato_Late_blight /content/PlantVillage/Tomato"
      ],
      "metadata": {
        "id": "dyXTKyhUanWZ"
      },
      "execution_count": null,
      "outputs": []
    },
    {
      "cell_type": "code",
      "source": [
        "! mv /content/PlantVillage/Tomato_Leaf_Mold /content/PlantVillage/Tomato"
      ],
      "metadata": {
        "id": "EQloqch1iC3a"
      },
      "execution_count": null,
      "outputs": []
    },
    {
      "cell_type": "code",
      "execution_count": null,
      "metadata": {
        "id": "_Rgr5L7QdLKs"
      },
      "outputs": [],
      "source": [
        "import tensorflow as tf\n",
        "from tensorflow.keras import models, layers\n",
        "import matplotlib.pyplot as plt"
      ]
    },
    {
      "cell_type": "code",
      "source": [
        "b_size  = 36\n",
        "img_size = 256\n",
        "channel = 3\n",
        "epoch = 20"
      ],
      "metadata": {
        "id": "B-Bcq1L5dVJp"
      },
      "execution_count": null,
      "outputs": []
    },
    {
      "cell_type": "code",
      "source": [
        "dataset = tf.keras.preprocessing.image_dataset_from_directory(\n",
        "    '/content/PlantVillage/Tomato',\n",
        "    seed=42,\n",
        "    batch_size=b_size,\n",
        "    image_size=(img_size,img_size),\n",
        "    shuffle=True\n",
        ")"
      ],
      "metadata": {
        "id": "fHdn2ADEdWje"
      },
      "execution_count": null,
      "outputs": []
    },
    {
      "cell_type": "code",
      "source": [
        "dataset.class_names[1]"
      ],
      "metadata": {
        "id": "0rlkP29IdYOc"
      },
      "execution_count": null,
      "outputs": []
    },
    {
      "cell_type": "code",
      "source": [
        "len(dataset)"
      ],
      "metadata": {
        "id": "jg3A2wZUdZuq"
      },
      "execution_count": null,
      "outputs": []
    },
    {
      "cell_type": "code",
      "source": [
        "plt.figure(figsize=(12,10))\n",
        "for image_batch, label_batch in dataset.take(1):\n",
        "    for i in range(12):\n",
        "        ax = plt.subplot(3,4,i+1)\n",
        "        plt.imshow(image_batch[i].numpy().astype('uint8'))\n",
        "        plt.title(dataset.class_names[label_batch[i]])\n",
        "        plt.axis('off')\n"
      ],
      "metadata": {
        "id": "xKNH-GnAdbXA"
      },
      "execution_count": null,
      "outputs": []
    },
    {
      "cell_type": "code",
      "source": [
        "def data_partition(ds, train_split=0.8, val_split=0.1, test_split=0.1, shuffle=True, shuffle_size=10000):\n",
        "    assert (train_split +val_split + test_split) == 1\n",
        "\n",
        "    ds_size = len(ds)\n",
        "\n",
        "    if shuffle:\n",
        "        ds = ds.shuffle(shuffle_size, seed=12)\n",
        "\n",
        "    train_size = int(train_split*ds_size)\n",
        "    test_size = int(test_split*ds_size)\n",
        "\n",
        "    train_ds = ds.take(train_size)\n",
        "    test_ds = ds.skip(train_size).take(test_size)\n",
        "    val_ds = ds.skip(train_size).skip(test_size)\n",
        "\n",
        "    return train_ds, test_ds, val_ds"
      ],
      "metadata": {
        "id": "da7A9UDDdc4-"
      },
      "execution_count": null,
      "outputs": []
    },
    {
      "cell_type": "code",
      "source": [
        "train_ds, test_ds, val_ds = data_partition(dataset)\n",
        "\n",
        "print(len(train_ds))\n",
        "print(len(test_ds))\n",
        "print(len(test_ds))"
      ],
      "metadata": {
        "id": "5hZf4B5XdeXt"
      },
      "execution_count": null,
      "outputs": []
    },
    {
      "cell_type": "code",
      "source": [
        "train_ds = train_ds.cache().shuffle(1000).prefetch(buffer_size=tf.data.AUTOTUNE)\n",
        "test_ds = test_ds.cache().shuffle(1000).prefetch(buffer_size=tf.data.AUTOTUNE)\n",
        "val_ds = val_ds.cache().shuffle(1000).prefetch(buffer_size=tf.data.AUTOTUNE)"
      ],
      "metadata": {
        "id": "gGyU9XptdgYk"
      },
      "execution_count": null,
      "outputs": []
    },
    {
      "cell_type": "code",
      "source": [
        "resize_rescale = tf.keras.Sequential([\n",
        "    layers.experimental.preprocessing.Resizing(img_size,img_size),\n",
        "    layers.experimental.preprocessing.Rescaling(1./255)\n",
        "])"
      ],
      "metadata": {
        "id": "byysIXGJdh8-"
      },
      "execution_count": null,
      "outputs": []
    },
    {
      "cell_type": "code",
      "source": [
        "data_augmantation  = tf.keras.Sequential([\n",
        "    layers.experimental.preprocessing.RandomFlip('horizontal_and_vertical'),\n",
        "    layers.experimental.preprocessing.RandomRotation(0.2),\n",
        "])"
      ],
      "metadata": {
        "id": "GRGId1bndjck"
      },
      "execution_count": null,
      "outputs": []
    },
    {
      "cell_type": "code",
      "source": [
        "input_shape = (b_size, img_size, img_size, channel)\n",
        "n_classes = 4\n",
        "\n",
        "model = models.Sequential([\n",
        "    resize_rescale,\n",
        "    layers.Conv2D(32, kernel_size= (3,3), activation='relu', input_shape= input_shape),\n",
        "    layers.MaxPooling2D(2,2),\n",
        "    layers.Conv2D(64,  kernel_size= (3,3), activation='relu'),\n",
        "    layers.MaxPooling2D(2,2),\n",
        "    layers.Conv2D(64, (3, 3), activation='relu'),\n",
        "    layers.MaxPooling2D((2, 2)),\n",
        "    layers.Conv2D(64, (3, 3), activation='relu'),\n",
        "    layers.MaxPooling2D((2, 2)),\n",
        "    layers.Conv2D(64, (3, 3), activation='relu'),\n",
        "    layers.MaxPooling2D((2, 2)),\n",
        "    layers.Conv2D(64, (3, 3), activation='relu'),\n",
        "    layers.MaxPooling2D((2, 2)),\n",
        "    layers.Flatten(),\n",
        "    layers.Dense(64, activation='relu'),\n",
        "    layers.Dense(n_classes, activation='softmax'),\n",
        "])\n",
        "\n",
        "model.build(input_shape=input_shape)\n",
        "model.summary()"
      ],
      "metadata": {
        "id": "mOCwFzatdkwA"
      },
      "execution_count": null,
      "outputs": []
    },
    {
      "cell_type": "code",
      "source": [
        "model.compile(\n",
        "    optimizer='adam',\n",
        "    loss=tf.keras.losses.SparseCategoricalCrossentropy(from_logits=False),\n",
        "    metrics=['accuracy']\n",
        ")"
      ],
      "metadata": {
        "id": "Atc1mpIfdnLv"
      },
      "execution_count": null,
      "outputs": []
    },
    {
      "cell_type": "code",
      "source": [
        "history = model.fit(\n",
        "    train_ds,\n",
        "    batch_size=b_size,\n",
        "    validation_data= val_ds,\n",
        "    verbose=1,\n",
        "    epochs=epoch\n",
        ")"
      ],
      "metadata": {
        "id": "SuF4RMYjdokN"
      },
      "execution_count": null,
      "outputs": []
    },
    {
      "cell_type": "code",
      "source": [
        "model.save('/content/drive/MyDrive/colab_notebook/Deep_learning/models/tomato_model')"
      ],
      "metadata": {
        "id": "aQ_PgNftYGIg"
      },
      "execution_count": null,
      "outputs": []
    },
    {
      "cell_type": "code",
      "source": [
        "history.params"
      ],
      "metadata": {
        "id": "udhHKiRGc2Ps"
      },
      "execution_count": null,
      "outputs": []
    },
    {
      "cell_type": "code",
      "source": [
        "acc = history.history['accuracy']\n",
        "val_acc = history.history['val_accuracy']\n",
        "\n",
        "loss = history.history['loss']\n",
        "val_loss = history.history['val_loss']"
      ],
      "metadata": {
        "id": "QSDa9jkGdoNt"
      },
      "execution_count": null,
      "outputs": []
    },
    {
      "cell_type": "code",
      "source": [
        "plt.figure(figsize=(8, 8))\n",
        "plt.subplot(1, 2, 1)\n",
        "plt.plot(range(epoch), acc, label='Training Accuracy')\n",
        "plt.plot(range(epoch), val_acc, label='Validation Accuracy')\n",
        "plt.legend(loc='lower right')\n",
        "plt.title('Training and Validation Accuracy')\n",
        "\n",
        "plt.subplot(1, 2, 2)\n",
        "plt.plot(range(epoch), loss, label='Training Loss')\n",
        "plt.plot(range(epoch), val_loss, label='Validation Loss')\n",
        "plt.legend(loc='upper right')\n",
        "plt.title('Training and Validation Loss')\n",
        "plt.show()"
      ],
      "metadata": {
        "id": "UT152vwddZik"
      },
      "execution_count": null,
      "outputs": []
    },
    {
      "cell_type": "code",
      "source": [
        "model = tf.keras.models.load_model('/content/drive/MyDrive/colab_notebook/Deep_learning/models/tomato_model')"
      ],
      "metadata": {
        "id": "0IwafYUVtJ9r"
      },
      "execution_count": null,
      "outputs": []
    },
    {
      "cell_type": "code",
      "source": [
        "score = model.evaluate(test_ds)\n",
        "score"
      ],
      "metadata": {
        "id": "1KZ0TRUedsnv"
      },
      "execution_count": null,
      "outputs": []
    },
    {
      "cell_type": "code",
      "source": [
        "import numpy as np\n",
        "\n",
        "def predict(model, img):\n",
        "    img_array = tf.keras.preprocessing.image.img_to_array(images[i])\n",
        "    img_array = tf.expand_dims(img_array, 0)\n",
        "\n",
        "    predictions = model.predict(img_array)\n",
        "\n",
        "    predicted_class = dataset.class_names[np.argmax(predictions[0])]\n",
        "    confidence = round(100 * (np.max(predictions[0])), 2)\n",
        "    return predicted_class, confidence"
      ],
      "metadata": {
        "id": "qXxinnEWfFJD"
      },
      "execution_count": null,
      "outputs": []
    },
    {
      "cell_type": "code",
      "source": [
        "plt.figure(figsize=(15, 15))\n",
        "for images, labels in test_ds:\n",
        "    for i in range(9):\n",
        "        ax = plt.subplot(3, 3, i + 1)\n",
        "        plt.imshow((images[i]/255.0))\n",
        "        \n",
        "        predicted_class, confidence = predict(model, images[i])\n",
        "        actual_class = dataset.class_names[int(labels[i])] \n",
        "        \n",
        "        plt.title(f\"Actual: {actual_class},\\n Predicted: {predicted_class}.\\n Confidence: {confidence}%\")\n",
        "        \n",
        "        plt.axis(\"off\")\n",
        "    break"
      ],
      "metadata": {
        "id": "kj4E0Gp9elWj"
      },
      "execution_count": null,
      "outputs": []
    }
  ]
}